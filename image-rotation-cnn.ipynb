{
 "cells": [
  {
   "cell_type": "markdown",
   "metadata": {},
   "source": [
    "# Image rotation with CNN\n",
    "\n",
    "this is a search and development project to do on the weekends.\n",
    "\n",
    "\n",
    "my main resourse is this blog post: https://d4nst.github.io/2017/01/12/image-orientation/\n",
    "\n"
   ]
  },
  {
   "cell_type": "code",
   "execution_count": 1,
   "metadata": {},
   "outputs": [],
   "source": [
    "targetUrl = 'datasets/streetview'\n",
    "gmap_images_url = \"http://www.cs.ucf.edu/~aroshan/index_files/Dataset_PitOrlManh/images\"\n"
   ]
  },
  {
   "cell_type": "markdown",
   "metadata": {},
   "source": [
    "## Rotate images\n",
    "#### Get images"
   ]
  },
  {
   "cell_type": "code",
   "execution_count": null,
   "metadata": {},
   "outputs": [],
   "source": [
    "import math\n",
    "# generate filenames\n",
    "# example 000005_3.jpg\n",
    "# the postfix can be a number between 0 and 5\n",
    "# the first part is a simple xml padded to 6 char: '{0:0>6}'.format('132')\n",
    "fileNames = []\n",
    "max = 10\n",
    "for i in range(1, math.floor(max/6)+1):\n",
    "    baseName = '{0:0>6}'.format(i);\n",
    "    for postfix in range(6):\n",
    "        fileNames.append(baseName + \"_\" + str(postfix) + \".jpg\");\n"
   ]
  },
  {
   "cell_type": "code",
   "execution_count": null,
   "metadata": {},
   "outputs": [],
   "source": [
    "fileNames[0:10]"
   ]
  },
  {
   "cell_type": "code",
   "execution_count": null,
   "metadata": {},
   "outputs": [],
   "source": []
  },
  {
   "cell_type": "code",
   "execution_count": null,
   "metadata": {},
   "outputs": [],
   "source": [
    "import urllib.request\n",
    "\n",
    "\n",
    "for filename in fileNames:\n",
    "    print('downloading {0}\\n'.format(filename))\n",
    "    urllib.request.urlretrieve(gmap_images_url + '/' + filename, targetUrl + '/' + filename)\n"
   ]
  },
  {
   "cell_type": "markdown",
   "metadata": {},
   "source": [
    "### rotate image in 3 orientation, copy and add some label\n",
    "\n",
    "labels: https://www.impulseadventure.com/photo/exif-orientation.html\n",
    "\n",
    "- 1 top, \n",
    "- 8 left side, \n",
    "- 3 bottom, \n",
    "- 6 right side\n",
    "\n",
    "prepend this label to the filename separted by a \"#\", eg. `1#000001_5.jpg`\n",
    "\n"
   ]
  },
  {
   "cell_type": "code",
   "execution_count": null,
   "metadata": {},
   "outputs": [],
   "source": [
    "import os\n",
    "from PIL import Image\n",
    "\n",
    "ORIENTATION_LABELS = { 'top': 1, 'left':  8, 'bottom': 3, 'right': 6 }\n",
    "\n",
    "\n",
    "def rotateImage(orientation, fileName, labeledFileName, subdir):\n",
    "    anglesForOrientation = { ORIENTATION_LABELS['top']: 0, \n",
    "                             ORIENTATION_LABELS['left']: 90, \n",
    "                             ORIENTATION_LABELS['bottom']: 180, \n",
    "                            ORIENTATION_LABELS['right']: 270 }\n",
    "    \n",
    "    if not orientation in anglesForOrientation.keys():\n",
    "        raise Exception('Unknown orienation: ' + orientation)\n",
    "    \n",
    "    angle = anglesForOrientation[orientation]\n",
    "    \n",
    "    # crop the image to have equal sizes\n",
    "    targetPath = os.path.join(subdir, labeledFileName)  \n",
    "    img = Image.open(os.path.join(subdir, fileName))\n",
    "    size = 0, 0, 1024, 1024\n",
    "    img.crop(size).rotate(angle).save(targetPath)\n",
    "                                  \n",
    "#rotateImage(ORIENTATION_LABELS['bottom'], 1, 2, 3)"
   ]
  },
  {
   "cell_type": "code",
   "execution_count": null,
   "metadata": {},
   "outputs": [],
   "source": []
  },
  {
   "cell_type": "code",
   "execution_count": null,
   "metadata": {},
   "outputs": [],
   "source": [
    "# first iterate them and add the appropriate label\n",
    "import os\n",
    "\n",
    "\n",
    "def isImage(file):\n",
    "    return '.jpg' in file\n",
    "\n",
    "def isProcessed(file):\n",
    "    return '#' in file\n",
    "\n",
    "def addLabelToFile(label, file):\n",
    "    return '{label}#{file}'.format(label = label, file = file)\n",
    "\n",
    "\n",
    "def rotateImages(fileName, subdir):\n",
    "    for orientation in ORIENTATION_LABELS.values():\n",
    "        labeledFileName = addLabelToFile(orientation, fileName)\n",
    "        rotateImage(orientation, fileName, labeledFileName, subdir)\n",
    "\n",
    "\n",
    "\n",
    "\n",
    "for subdir, dirs, files in os.walk(targetUrl):\n",
    "    for file in files:\n",
    "        if (not isImage(file)):\n",
    "            continue\n",
    "        if (isProcessed(file)):\n",
    "            continue\n",
    "        print ('Processing: {0}'.format(os.path.join(subdir, file)))\n",
    "        \n",
    "        \n",
    "        # create the rotations\n",
    "        rotateImages(file, subdir)\n",
    "        \n",
    "        # delete originals\n",
    "        os.remove(os.path.join(subdir, file))\n",
    "        "
   ]
  },
  {
   "cell_type": "markdown",
   "metadata": {},
   "source": [
    "# convert images into classified matrices before train / test split\n",
    "\n",
    "Keras has a fit_generator where the first param is a generator to add datas on the fly (by batches)\n",
    "\n",
    "https://keras.io/models/sequential/\n"
   ]
  },
  {
   "cell_type": "code",
   "execution_count": 27,
   "metadata": {},
   "outputs": [],
   "source": [
    "import os\n",
    "import numpy as np\n",
    "from PIL import Image\n",
    "import re\n",
    "\n",
    "\n",
    "class trainDataGenerator:\n",
    "    def __init__(self, image_src_path, batch_size=64):\n",
    "        self.image_src_path = image_src_path\n",
    "        self.batch_size = batch_size\n",
    "        self.input_shape = (1024, 1024, 3)\n",
    "        self.files = []\n",
    "        self._getFilenames()\n",
    "        print(\"number of images: {}\".format(len(self.files)))\n",
    "        self.curr_image_index = -1\n",
    "        self.batch_X = False\n",
    "        self.batch_y = False\n",
    "        self.batch_index = -1\n",
    "\n",
    "        \n",
    "    def __iter__(self):\n",
    "        return self\n",
    "\n",
    "    def __next__(self):\n",
    "        # create array to hold the images\n",
    "        self.batch_X = np.zeros((self.batch_size,) + self.input_shape, dtype='float32')\n",
    "        print(\"batch_X shape: {}\".format(self.batch_X.shape))\n",
    "        # create array to hold the labels\n",
    "        self.batch_y = np.zeros(self.batch_size, dtype='int')\n",
    "        print(self.curr_image_index)\n",
    "        first_image_in_batch = self.curr_image_index + 1\n",
    "        last_image_in_batch = first_image_in_batch + self.batch_size\n",
    "        self.batch_index = -1\n",
    "\n",
    "        self._processFiles(first_image_in_batch,  last_image_in_batch)    \n",
    "        return self.batch_X, self.batch_y\n",
    "    \n",
    "    def _processFiles(self, first_image_in_batch, last_image_in_batch):\n",
    "        print('first: {}, second: {}'.format(first_image_in_batch, last_image_in_batch))\n",
    "        for i in range(first_image_in_batch, last_image_in_batch):\n",
    "            try:\n",
    "                file_name = self.files[i]\n",
    "                self.curr_image_index = i\n",
    "                img = Image.open(file_name)\n",
    "                arr = np.array(img)\n",
    "                # image as numpy array\n",
    "                shape = arr.shape\n",
    "                print('{image} has shape: {shape}'.format(image=file_name, shape=shape))\n",
    "                # batch_X index is always between 0 and batch size, but index starts at the first image in batch.\n",
    "                # when the batch is 4, first will be 0, then 4, then 8 \n",
    "\n",
    "                self.batch_index += 1\n",
    "                print(ebatch_index)\n",
    "                self.batch_X[batch_index] = arr\n",
    "                \n",
    "                # get the label\n",
    "                found = re.search(r'([1,8,3,6])#.*?', file_name)\n",
    "                print('before')\n",
    "\n",
    "\n",
    "                label = found.group(1)\n",
    "                print('label: {label}'.format(label=label))\n",
    "                self.batch_y[i] = label\n",
    "            \n",
    "            except FileNotFoundError:\n",
    "                print('cannot open: ' + file_name)\n",
    "            except IndexError:\n",
    "                print('stop iteration')\n",
    "                raise StopIteration()\n",
    "    \n",
    "    def _getFilenames(self):\n",
    "        for _, _, files in os.walk(self.image_src_path):\n",
    "            for file in files:\n",
    "                 if '.jpg' in file:\n",
    "                    self.files.append(self.image_src_path + '/' + file)  \n",
    "                            \n",
    "                "
   ]
  },
  {
   "cell_type": "code",
   "execution_count": 28,
   "metadata": {},
   "outputs": [
    {
     "name": "stdout",
     "output_type": "stream",
     "text": [
      "number of images: 20\n",
      "batch_X shape: (4, 1024, 1024, 3)\n",
      "-1\n",
      "first: 0, second: 4\n",
      "datasets/streetview/1#000001_1.jpg has shape: (1024, 1024, 3)\n"
     ]
    },
    {
     "ename": "UnboundLocalError",
     "evalue": "local variable 'batch_index' referenced before assignment",
     "output_type": "error",
     "traceback": [
      "\u001b[0;31m---------------------------------------------------------------------------\u001b[0m",
      "\u001b[0;31mUnboundLocalError\u001b[0m                         Traceback (most recent call last)",
      "\u001b[0;32m<ipython-input-28-1cb8b257233e>\u001b[0m in \u001b[0;36m<module>\u001b[0;34m()\u001b[0m\n\u001b[0;32m----> 1\u001b[0;31m \u001b[0;32mfor\u001b[0m \u001b[0mx\u001b[0m\u001b[0;34m,\u001b[0m \u001b[0my\u001b[0m \u001b[0;32min\u001b[0m \u001b[0mtrainDataGenerator\u001b[0m\u001b[0;34m(\u001b[0m\u001b[0mtargetUrl\u001b[0m\u001b[0;34m,\u001b[0m \u001b[0;36m4\u001b[0m\u001b[0;34m)\u001b[0m\u001b[0;34m:\u001b[0m\u001b[0;34m\u001b[0m\u001b[0m\n\u001b[0m\u001b[1;32m      2\u001b[0m     \u001b[0mprint\u001b[0m\u001b[0;34m(\u001b[0m\u001b[0;34m'1 run'\u001b[0m\u001b[0;34m)\u001b[0m\u001b[0;34m\u001b[0m\u001b[0m\n\u001b[1;32m      3\u001b[0m     \u001b[0mprint\u001b[0m\u001b[0;34m(\u001b[0m\u001b[0mx\u001b[0m\u001b[0;34m.\u001b[0m\u001b[0mshape\u001b[0m\u001b[0;34m,\u001b[0m \u001b[0my\u001b[0m\u001b[0;34m)\u001b[0m\u001b[0;34m\u001b[0m\u001b[0m\n",
      "\u001b[0;32m<ipython-input-27-f23973921f4e>\u001b[0m in \u001b[0;36m__next__\u001b[0;34m(self)\u001b[0m\n\u001b[1;32m     32\u001b[0m         \u001b[0mbatch_index\u001b[0m \u001b[0;34m=\u001b[0m \u001b[0;34m-\u001b[0m\u001b[0;36m1\u001b[0m\u001b[0;34m\u001b[0m\u001b[0m\n\u001b[1;32m     33\u001b[0m \u001b[0;34m\u001b[0m\u001b[0m\n\u001b[0;32m---> 34\u001b[0;31m         \u001b[0mself\u001b[0m\u001b[0;34m.\u001b[0m\u001b[0m_processFiles\u001b[0m\u001b[0;34m(\u001b[0m\u001b[0mfirst_image_in_batch\u001b[0m\u001b[0;34m,\u001b[0m  \u001b[0mlast_image_in_batch\u001b[0m\u001b[0;34m)\u001b[0m\u001b[0;34m\u001b[0m\u001b[0m\n\u001b[0m\u001b[1;32m     35\u001b[0m         \u001b[0;32mreturn\u001b[0m \u001b[0mself\u001b[0m\u001b[0;34m.\u001b[0m\u001b[0mbatch_X\u001b[0m\u001b[0;34m,\u001b[0m \u001b[0mself\u001b[0m\u001b[0;34m.\u001b[0m\u001b[0mbatch_y\u001b[0m\u001b[0;34m\u001b[0m\u001b[0m\n\u001b[1;32m     36\u001b[0m \u001b[0;34m\u001b[0m\u001b[0m\n",
      "\u001b[0;32m<ipython-input-27-f23973921f4e>\u001b[0m in \u001b[0;36m_processFiles\u001b[0;34m(self, first_image_in_batch, last_image_in_batch)\u001b[0m\n\u001b[1;32m     49\u001b[0m                 \u001b[0;31m# when the batch is 4, first will be 0, then 4, then 8\u001b[0m\u001b[0;34m\u001b[0m\u001b[0;34m\u001b[0m\u001b[0m\n\u001b[1;32m     50\u001b[0m \u001b[0;34m\u001b[0m\u001b[0m\n\u001b[0;32m---> 51\u001b[0;31m                 \u001b[0mbatch_index\u001b[0m \u001b[0;34m+=\u001b[0m \u001b[0;36m1\u001b[0m\u001b[0;34m\u001b[0m\u001b[0m\n\u001b[0m\u001b[1;32m     52\u001b[0m                 \u001b[0mprint\u001b[0m\u001b[0;34m(\u001b[0m\u001b[0mbatch_index\u001b[0m\u001b[0;34m)\u001b[0m\u001b[0;34m\u001b[0m\u001b[0m\n\u001b[1;32m     53\u001b[0m                 \u001b[0mself\u001b[0m\u001b[0;34m.\u001b[0m\u001b[0mbatch_X\u001b[0m\u001b[0;34m[\u001b[0m\u001b[0mbatch_index\u001b[0m\u001b[0;34m]\u001b[0m \u001b[0;34m=\u001b[0m \u001b[0marr\u001b[0m\u001b[0;34m\u001b[0m\u001b[0m\n",
      "\u001b[0;31mUnboundLocalError\u001b[0m: local variable 'batch_index' referenced before assignment"
     ]
    }
   ],
   "source": [
    "for x, y in trainDataGenerator(targetUrl, 4):\n",
    "    print('1 run')\n",
    "    print(x.shape, y)"
   ]
  },
  {
   "cell_type": "code",
   "execution_count": null,
   "metadata": {},
   "outputs": [],
   "source": []
  }
 ],
 "metadata": {
  "kernelspec": {
   "display_name": "Python 3",
   "language": "python",
   "name": "python3"
  },
  "language_info": {
   "codemirror_mode": {
    "name": "ipython",
    "version": 3
   },
   "file_extension": ".py",
   "mimetype": "text/x-python",
   "name": "python",
   "nbconvert_exporter": "python",
   "pygments_lexer": "ipython3",
   "version": "3.6.4"
  }
 },
 "nbformat": 4,
 "nbformat_minor": 2
}
