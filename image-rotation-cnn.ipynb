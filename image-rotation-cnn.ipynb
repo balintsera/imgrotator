{
 "cells": [
  {
   "cell_type": "markdown",
   "metadata": {},
   "source": [
    "# Image rotation with CNN\n",
    "\n",
    "this is a search and development project to do on the weekends.\n",
    "\n",
    "\n",
    "my main resourse is this blog post: https://d4nst.github.io/2017/01/12/image-orientation/\n",
    "\n"
   ]
  },
  {
   "cell_type": "code",
   "execution_count": 51,
   "metadata": {},
   "outputs": [],
   "source": [
    "targetUrl = 'datasets/streetview'\n",
    "gmap_images_url = \"http://www.cs.ucf.edu/~aroshan/index_files/Dataset_PitOrlManh/images\"\n"
   ]
  },
  {
   "cell_type": "markdown",
   "metadata": {},
   "source": [
    "## Rotate images\n",
    "#### Get images"
   ]
  },
  {
   "cell_type": "code",
   "execution_count": 52,
   "metadata": {},
   "outputs": [],
   "source": [
    "import math\n",
    "# generate filenames\n",
    "# example 000005_3.jpg\n",
    "# the postfix can be a number between 0 and 5\n",
    "# the first part is a simple xml padded to 6 char: '{0:0>6}'.format('132')\n",
    "fileNames = []\n",
    "max = 10\n",
    "for i in range(1, math.floor(max/6)+1):\n",
    "    baseName = '{0:0>6}'.format(i);\n",
    "    for postfix in range(6):\n",
    "        fileNames.append(baseName + \"_\" + str(postfix) + \".jpg\");\n"
   ]
  },
  {
   "cell_type": "code",
   "execution_count": 53,
   "metadata": {},
   "outputs": [
    {
     "data": {
      "text/plain": [
       "['000001_0.jpg',\n",
       " '000001_1.jpg',\n",
       " '000001_2.jpg',\n",
       " '000001_3.jpg',\n",
       " '000001_4.jpg',\n",
       " '000001_5.jpg',\n",
       " '000002_0.jpg',\n",
       " '000002_1.jpg',\n",
       " '000002_2.jpg',\n",
       " '000002_3.jpg']"
      ]
     },
     "execution_count": 53,
     "metadata": {},
     "output_type": "execute_result"
    }
   ],
   "source": [
    "fileNames[0:10]"
   ]
  },
  {
   "cell_type": "code",
   "execution_count": null,
   "metadata": {},
   "outputs": [],
   "source": []
  },
  {
   "cell_type": "code",
   "execution_count": 54,
   "metadata": {},
   "outputs": [
    {
     "name": "stdout",
     "output_type": "stream",
     "text": [
      "downloading 000001_0.jpg\n",
      "\n",
      "downloading 000001_1.jpg\n",
      "\n",
      "downloading 000001_2.jpg\n",
      "\n",
      "downloading 000001_3.jpg\n",
      "\n",
      "downloading 000001_4.jpg\n",
      "\n",
      "downloading 000001_5.jpg\n",
      "\n",
      "downloading 000002_0.jpg\n",
      "\n",
      "downloading 000002_1.jpg\n",
      "\n",
      "downloading 000002_2.jpg\n",
      "\n",
      "downloading 000002_3.jpg\n",
      "\n",
      "downloading 000002_4.jpg\n",
      "\n",
      "downloading 000002_5.jpg\n",
      "\n"
     ]
    }
   ],
   "source": [
    "import urllib.request\n",
    "\n",
    "\n",
    "for filename in fileNames:\n",
    "    print('downloading {0}\\n'.format(filename))\n",
    "    urllib.request.urlretrieve(gmap_images_url + '/' + filename, targetUrl + '/' + filename)\n"
   ]
  },
  {
   "cell_type": "markdown",
   "metadata": {},
   "source": [
    "### rotate image in 3 orientation, copy and add some label\n",
    "\n",
    "labels: https://www.impulseadventure.com/photo/exif-orientation.html\n",
    "\n",
    "- 1 top, \n",
    "- 8 left side, \n",
    "- 3 bottom, \n",
    "- 6 right side\n",
    "\n",
    "prepend this label to the filename separted by a \"#\", eg. `1#000001_5.jpg`\n",
    "\n"
   ]
  },
  {
   "cell_type": "code",
   "execution_count": 55,
   "metadata": {},
   "outputs": [],
   "source": [
    "import os\n",
    "from PIL import Image\n",
    "\n",
    "ORIENTATION_LABELS = { 'top': 1, 'left':  8, 'bottom': 3, 'right': 6 }\n",
    "\n",
    "\n",
    "def rotateImage(orientation, fileName, labeledFileName, subdir):\n",
    "    # crop the image to have equal sizes\n",
    "    img = Image.open(os.path.join(subdir, fileName))\n",
    "    size = 0, 0, 1024, 1024\n",
    "    image = img.crop(size)\n",
    "    \n",
    "    targetPath = os.path.join(subdir, labeledFileName)\n",
    "    \n",
    "    # don't rotate the original\n",
    "    if orientation == ORIENTATION_LABELS['top']:\n",
    "        image.save(targetPath)\n",
    "        return\n",
    "    \n",
    "    anglesForOrientation = { ORIENTATION_LABELS['top']: 0, \n",
    "                             ORIENTATION_LABELS['left']: 90, \n",
    "                             ORIENTATION_LABELS['bottom']: 180, \n",
    "                            ORIENTATION_LABELS['right']: 270 }\n",
    "    \n",
    "    if not orientation in anglesForOrientation.keys():\n",
    "        raise Exception('Unknown orienation: ' + orientation)\n",
    "    \n",
    "    angle = anglesForOrientation[orientation]\n",
    "   \n",
    "    rotated = image.rotate(angle)\n",
    "    rotated.save(targetPath)\n",
    "                              \n",
    "#rotateImage(ORIENTATION_LABELS['bottom'], 1, 2, 3)"
   ]
  },
  {
   "cell_type": "code",
   "execution_count": null,
   "metadata": {},
   "outputs": [],
   "source": []
  },
  {
   "cell_type": "code",
   "execution_count": 56,
   "metadata": {},
   "outputs": [
    {
     "name": "stdout",
     "output_type": "stream",
     "text": [
      "Processing: datasets/streetview/000001_5.jpg\n",
      "Processing: datasets/streetview/000001_4.jpg\n",
      "Processing: datasets/streetview/000001_3.jpg\n",
      "Processing: datasets/streetview/000001_2.jpg\n",
      "Processing: datasets/streetview/000001_0.jpg\n",
      "Processing: datasets/streetview/000001_1.jpg\n",
      "Processing: datasets/streetview/000002_4.jpg\n",
      "Processing: datasets/streetview/000002_5.jpg\n",
      "Processing: datasets/streetview/000002_2.jpg\n",
      "Processing: datasets/streetview/000002_3.jpg\n",
      "Processing: datasets/streetview/000002_1.jpg\n",
      "Processing: datasets/streetview/000002_0.jpg\n"
     ]
    }
   ],
   "source": [
    "# first iterate them and add the appropriate label\n",
    "import os\n",
    "\n",
    "\n",
    "def isImage(file):\n",
    "    return '.jpg' in file\n",
    "\n",
    "def isProcessed(file):\n",
    "    return '#' in file\n",
    "\n",
    "def addLabelToFile(label, file):\n",
    "    return '{label}#{file}'.format(label = label, file = file)\n",
    "\n",
    "\n",
    "def rotateImages(fileName, subdir):\n",
    "    for orientation in ORIENTATION_LABELS.values():\n",
    "        labeledFileName = addLabelToFile(orientation, fileName)\n",
    "        rotatedImage = rotateImage(orientation, fileName, labeledFileName, subdir)\n",
    "\n",
    "\n",
    "\n",
    "\n",
    "for subdir, dirs, files in os.walk(targetUrl):\n",
    "    for file in files:\n",
    "        if (not isImage(file)):\n",
    "            continue\n",
    "        if (isProcessed(file)):\n",
    "            continue\n",
    "        print ('Processing: {0}'.format(os.path.join(subdir, file)))\n",
    "        \n",
    "        \n",
    "        # create the rotations\n",
    "        rotateImages(file, subdir)\n",
    "        \n",
    "        # create the default top orientation - it must be here to have the original file\n",
    "        labeled = addLabelToFile(ORIENTATION_LABELS['top'], file)\n",
    "        origPath = os.path.join(subdir, file)\n",
    "        labeledPath = os.path.join(subdir, labeled)\n",
    "        os.rename(origPath, labeledPath)\n",
    "        \n",
    "        "
   ]
  },
  {
   "cell_type": "code",
   "execution_count": 10,
   "metadata": {},
   "outputs": [
    {
     "name": "stdout",
     "output_type": "stream",
     "text": [
      "balint#woah.jpg\n"
     ]
    }
   ],
   "source": []
  },
  {
   "cell_type": "code",
   "execution_count": null,
   "metadata": {},
   "outputs": [],
   "source": []
  }
 ],
 "metadata": {
  "kernelspec": {
   "display_name": "Python 3",
   "language": "python",
   "name": "python3"
  }
 },
 "nbformat": 4,
 "nbformat_minor": 2
}
