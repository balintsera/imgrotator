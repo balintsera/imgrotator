{
 "cells": [
  {
   "cell_type": "markdown",
   "metadata": {},
   "source": [
    "# Image rotation with CNN\n",
    "\n",
    "this is a search and development project to do on the weekends.\n",
    "\n",
    "\n",
    "my main resourse is this blog post: https://d4nst.github.io/2017/01/12/image-orientation/\n",
    "\n"
   ]
  },
  {
   "cell_type": "markdown",
   "metadata": {},
   "source": [
    "## Rotate images\n",
    "#### Get images"
   ]
  },
  {
   "cell_type": "code",
   "execution_count": 38,
   "metadata": {},
   "outputs": [],
   "source": [
    "import math\n",
    "gmap_images_url = \"http://www.cs.ucf.edu/~aroshan/index_files/Dataset_PitOrlManh/images\"\n",
    "# generate filenames\n",
    "# example 000005_3.jpg\n",
    "# the postfix can be a number between 0 and 5\n",
    "# the first part is a simple xml padded to 6 char: '{0:0>6}'.format('132')\n",
    "fileNames = []\n",
    "max = 10\n",
    "for i in range(1, math.floor(max/5)+1):\n",
    "    baseName = '{0:0>6}'.format(i);\n",
    "    for postfix in range(6):\n",
    "        fileNames.append(baseName + \"_\" + str(postfix) + \".jpg\");\n"
   ]
  },
  {
   "cell_type": "code",
   "execution_count": 27,
   "metadata": {},
   "outputs": [
    {
     "data": {
      "text/plain": [
       "['000001_0.jpg',\n",
       " '000001_1.jpg',\n",
       " '000001_2.jpg',\n",
       " '000001_3.jpg',\n",
       " '000001_4.jpg',\n",
       " '000001_5.jpg',\n",
       " '000002_0.jpg',\n",
       " '000002_1.jpg',\n",
       " '000002_2.jpg',\n",
       " '000002_3.jpg']"
      ]
     },
     "execution_count": 27,
     "metadata": {},
     "output_type": "execute_result"
    }
   ],
   "source": [
    "fileNames[0:10]"
   ]
  },
  {
   "cell_type": "code",
   "execution_count": 39,
   "metadata": {},
   "outputs": [],
   "source": [
    "import urllib.request\n"
   ]
  },
  {
   "cell_type": "code",
   "execution_count": 40,
   "metadata": {},
   "outputs": [
    {
     "name": "stdout",
     "output_type": "stream",
     "text": [
      "downloading 000001_0.jpg\n",
      "\n",
      "downloading 000001_1.jpg\n",
      "\n",
      "downloading 000001_2.jpg\n",
      "\n",
      "downloading 000001_3.jpg\n",
      "\n",
      "downloading 000001_4.jpg\n",
      "\n",
      "downloading 000001_5.jpg\n",
      "\n",
      "downloading 000002_0.jpg\n",
      "\n",
      "downloading 000002_1.jpg\n",
      "\n",
      "downloading 000002_2.jpg\n",
      "\n",
      "downloading 000002_3.jpg\n",
      "\n",
      "downloading 000002_4.jpg\n",
      "\n",
      "downloading 000002_5.jpg\n",
      "\n"
     ]
    }
   ],
   "source": [
    "targetUrl = 'datasets/streetview'\n",
    "for filename in fileNames:\n",
    "    print('downloading {0}\\n'.format(filename))\n",
    "    urllib.request.urlretrieve(gmap_images_url + '/' + filename, targetUrl + '/' + filename)\n"
   ]
  },
  {
   "cell_type": "code",
   "execution_count": null,
   "metadata": {},
   "outputs": [],
   "source": []
  }
 ],
 "metadata": {
  "kernelspec": {
   "display_name": "Python 3",
   "language": "python",
   "name": "python3"
  },
  "language_info": {
   "codemirror_mode": {
    "name": "ipython",
    "version": 3
   },
   "file_extension": ".py",
   "mimetype": "text/x-python",
   "name": "python",
   "nbconvert_exporter": "python",
   "pygments_lexer": "ipython3",
   "version": "3.6.4"
  }
 },
 "nbformat": 4,
 "nbformat_minor": 2
}
